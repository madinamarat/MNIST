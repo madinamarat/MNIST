{
 "cells": [
  {
   "cell_type": "code",
   "execution_count": 1,
   "metadata": {},
   "outputs": [
    {
     "name": "stderr",
     "output_type": "stream",
     "text": [
      "/Users/madinamukhambekova/opt/anaconda3/envs/dl/lib/python3.6/site-packages/tensorflow/python/framework/dtypes.py:516: FutureWarning: Passing (type, 1) or '1type' as a synonym of type is deprecated; in a future version of numpy, it will be understood as (type, (1,)) / '(1,)type'.\n",
      "  _np_qint8 = np.dtype([(\"qint8\", np.int8, 1)])\n",
      "/Users/madinamukhambekova/opt/anaconda3/envs/dl/lib/python3.6/site-packages/tensorflow/python/framework/dtypes.py:517: FutureWarning: Passing (type, 1) or '1type' as a synonym of type is deprecated; in a future version of numpy, it will be understood as (type, (1,)) / '(1,)type'.\n",
      "  _np_quint8 = np.dtype([(\"quint8\", np.uint8, 1)])\n",
      "/Users/madinamukhambekova/opt/anaconda3/envs/dl/lib/python3.6/site-packages/tensorflow/python/framework/dtypes.py:518: FutureWarning: Passing (type, 1) or '1type' as a synonym of type is deprecated; in a future version of numpy, it will be understood as (type, (1,)) / '(1,)type'.\n",
      "  _np_qint16 = np.dtype([(\"qint16\", np.int16, 1)])\n",
      "/Users/madinamukhambekova/opt/anaconda3/envs/dl/lib/python3.6/site-packages/tensorflow/python/framework/dtypes.py:519: FutureWarning: Passing (type, 1) or '1type' as a synonym of type is deprecated; in a future version of numpy, it will be understood as (type, (1,)) / '(1,)type'.\n",
      "  _np_quint16 = np.dtype([(\"quint16\", np.uint16, 1)])\n",
      "/Users/madinamukhambekova/opt/anaconda3/envs/dl/lib/python3.6/site-packages/tensorflow/python/framework/dtypes.py:520: FutureWarning: Passing (type, 1) or '1type' as a synonym of type is deprecated; in a future version of numpy, it will be understood as (type, (1,)) / '(1,)type'.\n",
      "  _np_qint32 = np.dtype([(\"qint32\", np.int32, 1)])\n",
      "/Users/madinamukhambekova/opt/anaconda3/envs/dl/lib/python3.6/site-packages/tensorflow/python/framework/dtypes.py:525: FutureWarning: Passing (type, 1) or '1type' as a synonym of type is deprecated; in a future version of numpy, it will be understood as (type, (1,)) / '(1,)type'.\n",
      "  np_resource = np.dtype([(\"resource\", np.ubyte, 1)])\n",
      "/Users/madinamukhambekova/opt/anaconda3/envs/dl/lib/python3.6/site-packages/tensorboard/compat/tensorflow_stub/dtypes.py:541: FutureWarning: Passing (type, 1) or '1type' as a synonym of type is deprecated; in a future version of numpy, it will be understood as (type, (1,)) / '(1,)type'.\n",
      "  _np_qint8 = np.dtype([(\"qint8\", np.int8, 1)])\n",
      "/Users/madinamukhambekova/opt/anaconda3/envs/dl/lib/python3.6/site-packages/tensorboard/compat/tensorflow_stub/dtypes.py:542: FutureWarning: Passing (type, 1) or '1type' as a synonym of type is deprecated; in a future version of numpy, it will be understood as (type, (1,)) / '(1,)type'.\n",
      "  _np_quint8 = np.dtype([(\"quint8\", np.uint8, 1)])\n",
      "/Users/madinamukhambekova/opt/anaconda3/envs/dl/lib/python3.6/site-packages/tensorboard/compat/tensorflow_stub/dtypes.py:543: FutureWarning: Passing (type, 1) or '1type' as a synonym of type is deprecated; in a future version of numpy, it will be understood as (type, (1,)) / '(1,)type'.\n",
      "  _np_qint16 = np.dtype([(\"qint16\", np.int16, 1)])\n",
      "/Users/madinamukhambekova/opt/anaconda3/envs/dl/lib/python3.6/site-packages/tensorboard/compat/tensorflow_stub/dtypes.py:544: FutureWarning: Passing (type, 1) or '1type' as a synonym of type is deprecated; in a future version of numpy, it will be understood as (type, (1,)) / '(1,)type'.\n",
      "  _np_quint16 = np.dtype([(\"quint16\", np.uint16, 1)])\n",
      "/Users/madinamukhambekova/opt/anaconda3/envs/dl/lib/python3.6/site-packages/tensorboard/compat/tensorflow_stub/dtypes.py:545: FutureWarning: Passing (type, 1) or '1type' as a synonym of type is deprecated; in a future version of numpy, it will be understood as (type, (1,)) / '(1,)type'.\n",
      "  _np_qint32 = np.dtype([(\"qint32\", np.int32, 1)])\n",
      "/Users/madinamukhambekova/opt/anaconda3/envs/dl/lib/python3.6/site-packages/tensorboard/compat/tensorflow_stub/dtypes.py:550: FutureWarning: Passing (type, 1) or '1type' as a synonym of type is deprecated; in a future version of numpy, it will be understood as (type, (1,)) / '(1,)type'.\n",
      "  np_resource = np.dtype([(\"resource\", np.ubyte, 1)])\n"
     ]
    }
   ],
   "source": [
    "import matplotlib.pyplot as plt\n",
    "import numpy as np\n",
    "from tensorflow.keras.datasets import mnist\n",
    "from tensorflow.keras.models import Sequential\n",
    "from tensorflow.keras.layers import Flatten, Dense, LeakyReLU, Dropout\n",
    "from tensorflow.keras.utils import to_categorical, normalize\n",
    "from tensorflow.keras.callbacks import EarlyStopping\n",
    "from tensorflow.keras.layers import BatchNormalization"
   ]
  },
  {
   "cell_type": "code",
   "execution_count": 2,
   "metadata": {},
   "outputs": [],
   "source": [
    "(x_train, y_train), (x_test, y_test) = mnist.load_data()"
   ]
  },
  {
   "cell_type": "code",
   "execution_count": 3,
   "metadata": {},
   "outputs": [],
   "source": [
    "#normalize input data\n",
    "# x_norm=normalize(x_train)"
   ]
  },
  {
   "cell_type": "code",
   "execution_count": 4,
   "metadata": {
    "scrolled": true
   },
   "outputs": [
    {
     "name": "stdout",
     "output_type": "stream",
     "text": [
      "WARNING:tensorflow:From /Users/madinamukhambekova/opt/anaconda3/envs/dl/lib/python3.6/site-packages/tensorflow/python/ops/init_ops.py:1251: calling VarianceScaling.__init__ (from tensorflow.python.ops.init_ops) with dtype is deprecated and will be removed in a future version.\n",
      "Instructions for updating:\n",
      "Call initializer instance with the dtype argument instead of passing it to the constructor\n"
     ]
    }
   ],
   "source": [
    "# Step 1\n",
    "# Build a Dense ANN with five hidden layers of 25 neurons each\n",
    "m = Sequential()\n",
    "m.add(Flatten(input_shape=(28, 28)))\n",
    "m.add(Dense(units=25, activation='relu'))\n",
    "m.add(BatchNormalization())\n",
    "m.add(Dense(units=25, activation='relu'))\n",
    "m.add(BatchNormalization())\n",
    "# m.add(Dense(units=25, activation='relu'))\n",
    "# m.add(BatchNormalization())\n",
    "# m.add(Dense(units=25, activation='relu'))\n",
    "# m.add(BatchNormalization())\n",
    "# m.add(Dense(units=25, activation='relu'))\n",
    "# m.add(BatchNormalization())\n",
    "# m.add(Dropout(0.5))"
   ]
  },
  {
   "cell_type": "code",
   "execution_count": 5,
   "metadata": {},
   "outputs": [],
   "source": [
    "# Add a softmax output layer with ten neurons\n",
    "m.add(Dense(units=10, activation='softmax'))"
   ]
  },
  {
   "cell_type": "code",
   "execution_count": 6,
   "metadata": {},
   "outputs": [],
   "source": [
    "# Step 2\n",
    "# Train the model with optimizer='adam'\n",
    "m.compile(optimizer='adam',\n",
    "          loss='categorical_crossentropy',\n",
    "          metrics=['accuracy'])"
   ]
  },
  {
   "cell_type": "code",
   "execution_count": 7,
   "metadata": {},
   "outputs": [
    {
     "name": "stdout",
     "output_type": "stream",
     "text": [
      "Model: \"sequential\"\n",
      "_________________________________________________________________\n",
      "Layer (type)                 Output Shape              Param #   \n",
      "=================================================================\n",
      "flatten (Flatten)            (None, 784)               0         \n",
      "_________________________________________________________________\n",
      "dense (Dense)                (None, 25)                19625     \n",
      "_________________________________________________________________\n",
      "batch_normalization (BatchNo (None, 25)                100       \n",
      "_________________________________________________________________\n",
      "dense_1 (Dense)              (None, 25)                650       \n",
      "_________________________________________________________________\n",
      "batch_normalization_1 (Batch (None, 25)                100       \n",
      "_________________________________________________________________\n",
      "dense_2 (Dense)              (None, 10)                260       \n",
      "=================================================================\n",
      "Total params: 20,735\n",
      "Trainable params: 20,635\n",
      "Non-trainable params: 100\n",
      "_________________________________________________________________\n"
     ]
    }
   ],
   "source": [
    "m.summary()"
   ]
  },
  {
   "cell_type": "code",
   "execution_count": 8,
   "metadata": {
    "scrolled": false
   },
   "outputs": [
    {
     "name": "stdout",
     "output_type": "stream",
     "text": [
      "Train on 48000 samples, validate on 12000 samples\n",
      "Epoch 1/50\n",
      "48000/48000 [==============================] - 2s 45us/sample - loss: 0.5549 - acc: 0.8450 - val_loss: 0.2497 - val_acc: 0.9296\n",
      "Epoch 2/50\n",
      "48000/48000 [==============================] - 2s 35us/sample - loss: 0.2191 - acc: 0.9348 - val_loss: 0.1841 - val_acc: 0.9451\n",
      "Epoch 3/50\n",
      "48000/48000 [==============================] - 2s 35us/sample - loss: 0.1657 - acc: 0.9509 - val_loss: 0.1636 - val_acc: 0.9510\n",
      "Epoch 4/50\n",
      "48000/48000 [==============================] - 2s 36us/sample - loss: 0.1411 - acc: 0.9582 - val_loss: 0.1538 - val_acc: 0.9533\n",
      "Epoch 5/50\n",
      "48000/48000 [==============================] - 2s 39us/sample - loss: 0.1240 - acc: 0.9622 - val_loss: 0.1433 - val_acc: 0.9561\n",
      "Epoch 6/50\n",
      "48000/48000 [==============================] - 2s 41us/sample - loss: 0.1129 - acc: 0.9655 - val_loss: 0.1469 - val_acc: 0.9549\n",
      "Epoch 7/50\n",
      "48000/48000 [==============================] - 2s 41us/sample - loss: 0.1034 - acc: 0.9678 - val_loss: 0.1420 - val_acc: 0.9579\n",
      "Epoch 8/50\n",
      "48000/48000 [==============================] - 2s 36us/sample - loss: 0.0937 - acc: 0.9718 - val_loss: 0.1370 - val_acc: 0.9600\n",
      "Epoch 9/50\n",
      "48000/48000 [==============================] - 2s 35us/sample - loss: 0.0920 - acc: 0.9703 - val_loss: 0.1419 - val_acc: 0.9594\n",
      "Epoch 10/50\n",
      "48000/48000 [==============================] - 2s 36us/sample - loss: 0.0870 - acc: 0.9725 - val_loss: 0.1286 - val_acc: 0.9614\n",
      "Epoch 11/50\n",
      "48000/48000 [==============================] - 2s 37us/sample - loss: 0.0810 - acc: 0.9751 - val_loss: 0.1272 - val_acc: 0.9624\n",
      "Epoch 12/50\n",
      "48000/48000 [==============================] - 2s 35us/sample - loss: 0.0765 - acc: 0.9762 - val_loss: 0.1331 - val_acc: 0.9610\n",
      "Epoch 13/50\n",
      "48000/48000 [==============================] - 2s 37us/sample - loss: 0.0745 - acc: 0.9766 - val_loss: 0.1307 - val_acc: 0.9638\n",
      "Epoch 14/50\n",
      "48000/48000 [==============================] - 2s 35us/sample - loss: 0.0703 - acc: 0.9778 - val_loss: 0.1352 - val_acc: 0.9614\n",
      "Epoch 15/50\n",
      "48000/48000 [==============================] - 2s 37us/sample - loss: 0.0669 - acc: 0.9783 - val_loss: 0.1337 - val_acc: 0.9605\n",
      "Epoch 16/50\n",
      "48000/48000 [==============================] - 2s 40us/sample - loss: 0.0637 - acc: 0.9794 - val_loss: 0.1342 - val_acc: 0.9611\n",
      "Epoch 17/50\n",
      "48000/48000 [==============================] - 2s 45us/sample - loss: 0.0630 - acc: 0.9795 - val_loss: 0.1413 - val_acc: 0.9597\n",
      "Epoch 18/50\n",
      "48000/48000 [==============================] - 2s 40us/sample - loss: 0.0627 - acc: 0.9796 - val_loss: 0.1341 - val_acc: 0.9632\n",
      "Epoch 19/50\n",
      "48000/48000 [==============================] - 2s 41us/sample - loss: 0.0577 - acc: 0.9814 - val_loss: 0.1305 - val_acc: 0.9633\n",
      "Epoch 20/50\n",
      "48000/48000 [==============================] - 2s 39us/sample - loss: 0.0535 - acc: 0.9823 - val_loss: 0.1336 - val_acc: 0.9648\n",
      "Epoch 21/50\n",
      "48000/48000 [==============================] - 2s 38us/sample - loss: 0.0546 - acc: 0.9824 - val_loss: 0.1416 - val_acc: 0.9623\n",
      "Epoch 22/50\n",
      "48000/48000 [==============================] - 2s 40us/sample - loss: 0.0534 - acc: 0.9823 - val_loss: 0.1328 - val_acc: 0.9641\n",
      "Epoch 23/50\n",
      "48000/48000 [==============================] - 2s 37us/sample - loss: 0.0518 - acc: 0.9829 - val_loss: 0.1383 - val_acc: 0.9617\n",
      "Epoch 24/50\n",
      "48000/48000 [==============================] - 2s 38us/sample - loss: 0.0503 - acc: 0.9833 - val_loss: 0.1443 - val_acc: 0.9621\n",
      "Epoch 25/50\n",
      "48000/48000 [==============================] - 2s 38us/sample - loss: 0.0479 - acc: 0.9838 - val_loss: 0.1362 - val_acc: 0.9650\n",
      "Epoch 26/50\n",
      "48000/48000 [==============================] - 2s 39us/sample - loss: 0.0470 - acc: 0.9843 - val_loss: 0.1498 - val_acc: 0.9607\n",
      "Epoch 27/50\n",
      "48000/48000 [==============================] - 2s 37us/sample - loss: 0.0476 - acc: 0.9840 - val_loss: 0.1389 - val_acc: 0.9627\n",
      "Epoch 28/50\n",
      "48000/48000 [==============================] - 2s 38us/sample - loss: 0.0462 - acc: 0.9846 - val_loss: 0.1414 - val_acc: 0.9624\n",
      "Epoch 29/50\n",
      "48000/48000 [==============================] - 2s 38us/sample - loss: 0.0432 - acc: 0.9854 - val_loss: 0.1420 - val_acc: 0.9634\n",
      "Epoch 30/50\n",
      "48000/48000 [==============================] - 2s 37us/sample - loss: 0.0424 - acc: 0.9852 - val_loss: 0.1500 - val_acc: 0.9600\n",
      "Epoch 31/50\n",
      "48000/48000 [==============================] - 2s 38us/sample - loss: 0.0422 - acc: 0.9859 - val_loss: 0.1479 - val_acc: 0.9639\n",
      "Epoch 32/50\n",
      "48000/48000 [==============================] - 2s 38us/sample - loss: 0.0412 - acc: 0.9859 - val_loss: 0.1491 - val_acc: 0.9619\n",
      "Epoch 33/50\n",
      "48000/48000 [==============================] - 2s 38us/sample - loss: 0.0404 - acc: 0.9861 - val_loss: 0.1473 - val_acc: 0.9626\n",
      "Epoch 34/50\n",
      "48000/48000 [==============================] - 2s 37us/sample - loss: 0.0386 - acc: 0.9871 - val_loss: 0.1472 - val_acc: 0.9624\n",
      "Epoch 35/50\n",
      "48000/48000 [==============================] - 2s 38us/sample - loss: 0.0382 - acc: 0.9872 - val_loss: 0.1553 - val_acc: 0.9599\n",
      "Epoch 36/50\n",
      "48000/48000 [==============================] - 2s 38us/sample - loss: 0.0381 - acc: 0.9870 - val_loss: 0.1526 - val_acc: 0.9629\n",
      "Epoch 37/50\n",
      "48000/48000 [==============================] - 2s 37us/sample - loss: 0.0352 - acc: 0.9878 - val_loss: 0.1506 - val_acc: 0.9623\n",
      "Epoch 38/50\n",
      "48000/48000 [==============================] - 2s 40us/sample - loss: 0.0380 - acc: 0.9868 - val_loss: 0.1698 - val_acc: 0.9593\n",
      "Epoch 39/50\n",
      "48000/48000 [==============================] - 2s 41us/sample - loss: 0.0357 - acc: 0.9880 - val_loss: 0.1542 - val_acc: 0.9622\n",
      "Epoch 40/50\n",
      "48000/48000 [==============================] - 2s 42us/sample - loss: 0.0362 - acc: 0.9873 - val_loss: 0.1517 - val_acc: 0.9640\n",
      "Epoch 41/50\n",
      "48000/48000 [==============================] - 2s 39us/sample - loss: 0.0333 - acc: 0.9884 - val_loss: 0.1559 - val_acc: 0.9625\n",
      "Epoch 42/50\n",
      "48000/48000 [==============================] - 2s 39us/sample - loss: 0.0353 - acc: 0.9885 - val_loss: 0.1674 - val_acc: 0.9605\n",
      "Epoch 43/50\n",
      "48000/48000 [==============================] - 2s 38us/sample - loss: 0.0327 - acc: 0.9883 - val_loss: 0.1670 - val_acc: 0.9600\n",
      "Epoch 44/50\n",
      "48000/48000 [==============================] - 2s 37us/sample - loss: 0.0317 - acc: 0.9893 - val_loss: 0.1570 - val_acc: 0.9632\n",
      "Epoch 45/50\n",
      "48000/48000 [==============================] - 2s 39us/sample - loss: 0.0319 - acc: 0.9889 - val_loss: 0.1619 - val_acc: 0.9610\n",
      "Epoch 46/50\n",
      "48000/48000 [==============================] - 2s 38us/sample - loss: 0.0322 - acc: 0.9888 - val_loss: 0.1613 - val_acc: 0.9628\n",
      "Epoch 47/50\n",
      "48000/48000 [==============================] - 2s 38us/sample - loss: 0.0320 - acc: 0.9888 - val_loss: 0.1631 - val_acc: 0.9623\n",
      "Epoch 48/50\n",
      "48000/48000 [==============================] - 2s 38us/sample - loss: 0.0301 - acc: 0.9895 - val_loss: 0.1630 - val_acc: 0.9636\n",
      "Epoch 49/50\n",
      "48000/48000 [==============================] - 2s 38us/sample - loss: 0.0293 - acc: 0.9897 - val_loss: 0.1564 - val_acc: 0.9655\n",
      "Epoch 50/50\n",
      "48000/48000 [==============================] - 2s 38us/sample - loss: 0.0297 - acc: 0.9897 - val_loss: 0.1671 - val_acc: 0.9617\n"
     ]
    }
   ],
   "source": [
    "# Use a batch size of at least 500. Run 100 epochs.\n",
    "h= m.fit(x_train, to_categorical(y_train), epochs=50, validation_split=0.2, batch_size=100)"
   ]
  },
  {
   "cell_type": "code",
   "execution_count": 9,
   "metadata": {},
   "outputs": [
    {
     "name": "stdout",
     "output_type": "stream",
     "text": [
      "0.07099953572925613\n",
      "0.14970847631292417\n"
     ]
    }
   ],
   "source": [
    "# What accuracy do you reach?\n",
    "print(sum(h.history['loss'])/len(h.history['loss']))\n",
    "print(sum(h.history['val_loss'])/len(h.history['val_loss']))"
   ]
  },
  {
   "cell_type": "code",
   "execution_count": 10,
   "metadata": {},
   "outputs": [
    {
     "data": {
      "text/plain": [
       "<matplotlib.legend.Legend at 0x7fe928438d30>"
      ]
     },
     "execution_count": 10,
     "metadata": {},
     "output_type": "execute_result"
    },
    {
     "data": {
      "image/png": "[encoded data removed]",
      "text/plain": [
       "<Figure size 432x288 with 1 Axes>"
      ]
     },
     "metadata": {
      "needs_background": "light"
     },
     "output_type": "display_data"
    }
   ],
   "source": [
    "# Is the network overfitting?\n",
    "plt.plot(h.history['loss'])\n",
    "plt.plot(h.history['val_loss'])\n",
    "plt.legend(['loss', 'val_loss'])"
   ]
  },
  {
   "cell_type": "code",
   "execution_count": 11,
   "metadata": {},
   "outputs": [],
   "source": [
    "# Step 3\n",
    "# Add Early Stopping. After how many epochs does it stop?\n",
    "# stopping = EarlyStopping(min_delta=0.02, patience=10)\n",
    "# h= m.fit(x_norm, to_categorical(y_train), epochs=100, validation_split=0.2, batch_size=500,callbacks=[stopping])"
   ]
  },
  {
   "cell_type": "code",
   "execution_count": 12,
   "metadata": {},
   "outputs": [],
   "source": [
    "# Step 4\n",
    "# Add Batch Normalization to every layer.\n",
    "# Compare the learning curves: is it converging faster than before?\n",
    "# Is it still overfitting?"
   ]
  },
  {
   "cell_type": "code",
   "execution_count": 13,
   "metadata": {},
   "outputs": [
    {
     "name": "stdout",
     "output_type": "stream",
     "text": [
      "60000/60000 [==============================] - 1s 15us/sample - loss: 0.0461 - acc: 0.9885\n",
      "[0.04614085119925827, 0.9884833]\n"
     ]
    }
   ],
   "source": [
    "score = m.evaluate(x_train, to_categorical(y_train), batch_size=100)\n",
    "print(score)"
   ]
  },
  {
   "cell_type": "code",
   "execution_count": 15,
   "metadata": {
    "scrolled": true
   },
   "outputs": [
    {
     "name": "stdout",
     "output_type": "stream",
     "text": [
      "[[5.17046850e-10 3.25645217e-08 6.62028210e-11 1.62860277e-04\n",
      "  4.41890621e-12 9.99837160e-01 5.82330451e-09 1.09106135e-09\n",
      "  2.56109695e-13 2.34577253e-11]\n",
      " [1.00000000e+00 1.19927659e-08 4.67810723e-09 2.28738872e-09\n",
      "  5.15668133e-11 1.83595739e-09 1.24795934e-08 3.30393419e-08\n",
      "  4.19585255e-09 1.83801763e-09]\n",
      " [1.06515350e-12 2.48306264e-06 2.19975253e-11 1.70097070e-09\n",
      "  9.99997497e-01 6.25868732e-11 4.98102705e-11 4.07335515e-13\n",
      "  1.40019258e-16 1.15149630e-13]\n",
      " [2.92687342e-13 9.99999166e-01 1.15653343e-07 1.47238360e-10\n",
      "  1.21340238e-09 6.42452314e-10 1.37918010e-10 6.91836021e-07\n",
      "  3.29938299e-09 7.49521430e-14]\n",
      " [2.20033716e-08 1.18553703e-06 7.66858399e-09 1.91997842e-05\n",
      "  6.85059349e-05 2.74784725e-06 3.77088156e-08 3.07455950e-04\n",
      "  2.37504355e-05 9.99577105e-01]\n",
      " [2.60446908e-09 6.61315317e-12 1.00000000e+00 3.87763224e-11\n",
      "  1.27756946e-14 2.99506797e-09 5.99011596e-09 9.47174517e-09\n",
      "  1.96391490e-08 7.28775262e-10]\n",
      " [1.68598957e-09 9.99997377e-01 2.30911542e-06 7.47469429e-08\n",
      "  9.43410949e-09 5.14342489e-08 4.43445032e-08 2.86249584e-08\n",
      "  7.91964538e-08 3.54183527e-09]\n",
      " [3.70946589e-12 4.56356077e-14 1.43935003e-10 1.00000000e+00\n",
      "  1.13476957e-13 1.82110335e-13 3.25118625e-15 5.62832524e-11\n",
      "  4.44203181e-11 3.02882684e-11]\n",
      " [1.16540322e-09 9.99690413e-01 1.16708158e-07 2.94179841e-07\n",
      "  3.05398430e-07 3.00877524e-04 1.69007308e-06 5.54369279e-08\n",
      "  4.53345223e-07 5.75251852e-06]\n",
      " [6.00528953e-15 6.08491529e-15 1.82189637e-12 2.72656026e-14\n",
      "  1.00000000e+00 1.53661226e-16 5.66319040e-12 5.77258756e-15\n",
      "  2.18349874e-17 5.20937731e-13]]\n"
     ]
    }
   ],
   "source": [
    "# prediction on new data points\n",
    "print(m.predict(x_train[:10]))"
   ]
  },
  {
   "cell_type": "code",
   "execution_count": 16,
   "metadata": {},
   "outputs": [],
   "source": [
    "pred_bin = m.predict(x_test[:10])"
   ]
  },
  {
   "cell_type": "code",
   "execution_count": 17,
   "metadata": {},
   "outputs": [],
   "source": [
    "pred = [np.argmax(p) for p in pred_bin]"
   ]
  },
  {
   "cell_type": "code",
   "execution_count": 18,
   "metadata": {},
   "outputs": [
    {
     "name": "stdout",
     "output_type": "stream",
     "text": [
      "[7, 2, 1, 0, 4, 1, 4, 9, 5, 9] [7 2 1 0 4 1 4 9 5 9]\n"
     ]
    }
   ],
   "source": [
    "print(pred, y_test[:10])"
   ]
  }
 ],
 "metadata": {
  "kernelspec": {
   "display_name": "Python 3",
   "language": "python",
   "name": "python3"
  },
  "language_info": {
   "codemirror_mode": {
    "name": "ipython",
    "version": 3
   },
   "file_extension": ".py",
   "mimetype": "text/x-python",
   "name": "python",
   "nbconvert_exporter": "python",
   "pygments_lexer": "ipython3",
   "version": "3.8.3"
  }
 },
 "nbformat": 4,
 "nbformat_minor": 4
}
