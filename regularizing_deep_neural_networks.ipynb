{
 "cells": [
  {
   "cell_type": "code",
   "execution_count": 1,
   "metadata": {},
   "outputs": [
    {
     "name": "stderr",
     "output_type": "stream",
     "text": [
      "/Users/madinamukhambekova/opt/anaconda3/envs/dl/lib/python3.6/site-packages/tensorflow/python/framework/dtypes.py:516: FutureWarning: Passing (type, 1) or '1type' as a synonym of type is deprecated; in a future version of numpy, it will be understood as (type, (1,)) / '(1,)type'.\n",
      "  _np_qint8 = np.dtype([(\"qint8\", np.int8, 1)])\n",
      "/Users/madinamukhambekova/opt/anaconda3/envs/dl/lib/python3.6/site-packages/tensorflow/python/framework/dtypes.py:517: FutureWarning: Passing (type, 1) or '1type' as a synonym of type is deprecated; in a future version of numpy, it will be understood as (type, (1,)) / '(1,)type'.\n",
      "  _np_quint8 = np.dtype([(\"quint8\", np.uint8, 1)])\n",
      "/Users/madinamukhambekova/opt/anaconda3/envs/dl/lib/python3.6/site-packages/tensorflow/python/framework/dtypes.py:518: FutureWarning: Passing (type, 1) or '1type' as a synonym of type is deprecated; in a future version of numpy, it will be understood as (type, (1,)) / '(1,)type'.\n",
      "  _np_qint16 = np.dtype([(\"qint16\", np.int16, 1)])\n",
      "/Users/madinamukhambekova/opt/anaconda3/envs/dl/lib/python3.6/site-packages/tensorflow/python/framework/dtypes.py:519: FutureWarning: Passing (type, 1) or '1type' as a synonym of type is deprecated; in a future version of numpy, it will be understood as (type, (1,)) / '(1,)type'.\n",
      "  _np_quint16 = np.dtype([(\"quint16\", np.uint16, 1)])\n",
      "/Users/madinamukhambekova/opt/anaconda3/envs/dl/lib/python3.6/site-packages/tensorflow/python/framework/dtypes.py:520: FutureWarning: Passing (type, 1) or '1type' as a synonym of type is deprecated; in a future version of numpy, it will be understood as (type, (1,)) / '(1,)type'.\n",
      "  _np_qint32 = np.dtype([(\"qint32\", np.int32, 1)])\n",
      "/Users/madinamukhambekova/opt/anaconda3/envs/dl/lib/python3.6/site-packages/tensorflow/python/framework/dtypes.py:525: FutureWarning: Passing (type, 1) or '1type' as a synonym of type is deprecated; in a future version of numpy, it will be understood as (type, (1,)) / '(1,)type'.\n",
      "  np_resource = np.dtype([(\"resource\", np.ubyte, 1)])\n",
      "/Users/madinamukhambekova/opt/anaconda3/envs/dl/lib/python3.6/site-packages/tensorboard/compat/tensorflow_stub/dtypes.py:541: FutureWarning: Passing (type, 1) or '1type' as a synonym of type is deprecated; in a future version of numpy, it will be understood as (type, (1,)) / '(1,)type'.\n",
      "  _np_qint8 = np.dtype([(\"qint8\", np.int8, 1)])\n",
      "/Users/madinamukhambekova/opt/anaconda3/envs/dl/lib/python3.6/site-packages/tensorboard/compat/tensorflow_stub/dtypes.py:542: FutureWarning: Passing (type, 1) or '1type' as a synonym of type is deprecated; in a future version of numpy, it will be understood as (type, (1,)) / '(1,)type'.\n",
      "  _np_quint8 = np.dtype([(\"quint8\", np.uint8, 1)])\n",
      "/Users/madinamukhambekova/opt/anaconda3/envs/dl/lib/python3.6/site-packages/tensorboard/compat/tensorflow_stub/dtypes.py:543: FutureWarning: Passing (type, 1) or '1type' as a synonym of type is deprecated; in a future version of numpy, it will be understood as (type, (1,)) / '(1,)type'.\n",
      "  _np_qint16 = np.dtype([(\"qint16\", np.int16, 1)])\n",
      "/Users/madinamukhambekova/opt/anaconda3/envs/dl/lib/python3.6/site-packages/tensorboard/compat/tensorflow_stub/dtypes.py:544: FutureWarning: Passing (type, 1) or '1type' as a synonym of type is deprecated; in a future version of numpy, it will be understood as (type, (1,)) / '(1,)type'.\n",
      "  _np_quint16 = np.dtype([(\"quint16\", np.uint16, 1)])\n",
      "/Users/madinamukhambekova/opt/anaconda3/envs/dl/lib/python3.6/site-packages/tensorboard/compat/tensorflow_stub/dtypes.py:545: FutureWarning: Passing (type, 1) or '1type' as a synonym of type is deprecated; in a future version of numpy, it will be understood as (type, (1,)) / '(1,)type'.\n",
      "  _np_qint32 = np.dtype([(\"qint32\", np.int32, 1)])\n",
      "/Users/madinamukhambekova/opt/anaconda3/envs/dl/lib/python3.6/site-packages/tensorboard/compat/tensorflow_stub/dtypes.py:550: FutureWarning: Passing (type, 1) or '1type' as a synonym of type is deprecated; in a future version of numpy, it will be understood as (type, (1,)) / '(1,)type'.\n",
      "  np_resource = np.dtype([(\"resource\", np.ubyte, 1)])\n"
     ]
    }
   ],
   "source": [
    "import matplotlib.pyplot as plt\n",
    "import numpy as np\n",
    "from tensorflow.keras.datasets import mnist\n",
    "from tensorflow.keras.models import Sequential\n",
    "from tensorflow.keras.layers import Flatten, Dense, LeakyReLU, Dropout\n",
    "from tensorflow.keras.utils import to_categorical, normalize\n",
    "from tensorflow.keras.callbacks import EarlyStopping\n",
    "from tensorflow.keras.layers import BatchNormalization"
   ]
  },
  {
   "cell_type": "code",
   "execution_count": 2,
   "metadata": {},
   "outputs": [],
   "source": [
    "(x_train, y_train), (x_test, y_test) = mnist.load_data()"
   ]
  },
  {
   "cell_type": "code",
   "execution_count": 3,
   "metadata": {},
   "outputs": [],
   "source": [
    "#normalize input data\n",
    "# x_norm=normalize(x_train)"
   ]
  },
  {
   "cell_type": "code",
   "execution_count": 4,
   "metadata": {
    "scrolled": true
   },
   "outputs": [
    {
     "name": "stdout",
     "output_type": "stream",
     "text": [
      "WARNING:tensorflow:From /Users/madinamukhambekova/opt/anaconda3/envs/dl/lib/python3.6/site-packages/tensorflow/python/ops/init_ops.py:1251: calling VarianceScaling.__init__ (from tensorflow.python.ops.init_ops) with dtype is deprecated and will be removed in a future version.\n",
      "Instructions for updating:\n",
      "Call initializer instance with the dtype argument instead of passing it to the constructor\n"
     ]
    }
   ],
   "source": [
    "# Step 1\n",
    "# Build a Dense ANN with five hidden layers of 25 neurons each\n",
    "m = Sequential()\n",
    "m.add(Flatten(input_shape=(28, 28)))\n",
    "m.add(Dense(units=25, activation='relu'))\n",
    "m.add(BatchNormalization())\n",
    "m.add(Dense(units=25, activation='relu'))\n",
    "m.add(BatchNormalization())\n",
    "# m.add(Dense(units=25, activation='relu'))\n",
    "# m.add(BatchNormalization())\n",
    "# m.add(Dense(units=25, activation='relu'))\n",
    "# m.add(BatchNormalization())\n",
    "# m.add(Dense(units=25, activation='relu'))\n",
    "# m.add(BatchNormalization())\n",
    "# m.add(Dropout(0.5))"
   ]
  },
  {
   "cell_type": "code",
   "execution_count": 5,
   "metadata": {},
   "outputs": [],
   "source": [
    "# Add a softmax output layer with ten neurons\n",
    "m.add(Dense(units=10, activation='softmax'))"
   ]
  },
  {
   "cell_type": "code",
   "execution_count": 6,
   "metadata": {},
   "outputs": [],
   "source": [
    "# Step 2\n",
    "# Train the model with optimizer='adam'\n",
    "m.compile(optimizer='adam',\n",
    "          loss='categorical_crossentropy',\n",
    "          metrics=['accuracy'])"
   ]
  },
  {
   "cell_type": "code",
   "execution_count": 7,
   "metadata": {},
   "outputs": [
    {
     "name": "stdout",
     "output_type": "stream",
     "text": [
      "Model: \"sequential\"\n",
      "_________________________________________________________________\n",
      "Layer (type)                 Output Shape              Param #   \n",
      "=================================================================\n",
      "flatten (Flatten)            (None, 784)               0         \n",
      "_________________________________________________________________\n",
      "dense (Dense)                (None, 25)                19625     \n",
      "_________________________________________________________________\n",
      "batch_normalization (BatchNo (None, 25)                100       \n",
      "_________________________________________________________________\n",
      "dense_1 (Dense)              (None, 25)                650       \n",
      "_________________________________________________________________\n",
      "batch_normalization_1 (Batch (None, 25)                100       \n",
      "_________________________________________________________________\n",
      "dense_2 (Dense)              (None, 10)                260       \n",
      "=================================================================\n",
      "Total params: 20,735\n",
      "Trainable params: 20,635\n",
      "Non-trainable params: 100\n",
      "_________________________________________________________________\n"
     ]
    }
   ],
   "source": [
    "m.summary()"
   ]
  },
  {
   "cell_type": "code",
   "execution_count": 8,
   "metadata": {
    "scrolled": false
   },
   "outputs": [
    {
     "name": "stdout",
     "output_type": "stream",
     "text": [
      "Train on 48000 samples, validate on 12000 samples\n",
      "Epoch 1/50\n",
      "48000/48000 [==============================] - 3s 65us/sample - loss: 0.5135 - acc: 0.8597 - val_loss: 0.2358 - val_acc: 0.9337\n",
      "Epoch 2/50\n",
      "48000/48000 [==============================] - 3s 59us/sample - loss: 0.2160 - acc: 0.9379 - val_loss: 0.1810 - val_acc: 0.9452\n",
      "Epoch 3/50\n",
      "48000/48000 [==============================] - 3s 59us/sample - loss: 0.1666 - acc: 0.9512 - val_loss: 0.1663 - val_acc: 0.9491\n",
      "Epoch 4/50\n",
      "48000/48000 [==============================] - 3s 56us/sample - loss: 0.1440 - acc: 0.9571 - val_loss: 0.1491 - val_acc: 0.9548\n",
      "Epoch 5/50\n",
      "48000/48000 [==============================] - 3s 59us/sample - loss: 0.1279 - acc: 0.9615 - val_loss: 0.1438 - val_acc: 0.9553\n",
      "Epoch 6/50\n",
      "48000/48000 [==============================] - 3s 71us/sample - loss: 0.1136 - acc: 0.9650 - val_loss: 0.1502 - val_acc: 0.9539\n",
      "Epoch 7/50\n",
      "48000/48000 [==============================] - 3s 55us/sample - loss: 0.1051 - acc: 0.9687 - val_loss: 0.1423 - val_acc: 0.9567\n",
      "Epoch 8/50\n",
      "48000/48000 [==============================] - 2s 41us/sample - loss: 0.0966 - acc: 0.9703 - val_loss: 0.1363 - val_acc: 0.9586\n",
      "Epoch 9/50\n",
      "48000/48000 [==============================] - 2s 39us/sample - loss: 0.0896 - acc: 0.9719 - val_loss: 0.1271 - val_acc: 0.9617\n",
      "Epoch 10/50\n",
      "48000/48000 [==============================] - 2s 40us/sample - loss: 0.0854 - acc: 0.9733 - val_loss: 0.1213 - val_acc: 0.9637\n",
      "Epoch 11/50\n",
      "48000/48000 [==============================] - 3s 54us/sample - loss: 0.0804 - acc: 0.9747 - val_loss: 0.1306 - val_acc: 0.9613\n",
      "Epoch 12/50\n",
      "48000/48000 [==============================] - 3s 64us/sample - loss: 0.0743 - acc: 0.9769 - val_loss: 0.1277 - val_acc: 0.9627\n",
      "Epoch 13/50\n",
      "48000/48000 [==============================] - 2s 44us/sample - loss: 0.0720 - acc: 0.9772 - val_loss: 0.1284 - val_acc: 0.9611\n",
      "Epoch 14/50\n",
      "48000/48000 [==============================] - 2s 51us/sample - loss: 0.0698 - acc: 0.9778 - val_loss: 0.1303 - val_acc: 0.9622\n",
      "Epoch 15/50\n",
      "48000/48000 [==============================] - 3s 54us/sample - loss: 0.0663 - acc: 0.9787 - val_loss: 0.1344 - val_acc: 0.9624\n",
      "Epoch 16/50\n",
      "48000/48000 [==============================] - 2s 48us/sample - loss: 0.0631 - acc: 0.9801 - val_loss: 0.1316 - val_acc: 0.9598\n",
      "Epoch 17/50\n",
      "48000/48000 [==============================] - 3s 58us/sample - loss: 0.0602 - acc: 0.9804 - val_loss: 0.1261 - val_acc: 0.9643\n",
      "Epoch 18/50\n",
      "48000/48000 [==============================] - 3s 53us/sample - loss: 0.0564 - acc: 0.9818 - val_loss: 0.1336 - val_acc: 0.9629\n",
      "Epoch 19/50\n",
      "48000/48000 [==============================] - 3s 56us/sample - loss: 0.0554 - acc: 0.9823 - val_loss: 0.1324 - val_acc: 0.9625\n",
      "Epoch 20/50\n",
      "48000/48000 [==============================] - 3s 56us/sample - loss: 0.0541 - acc: 0.9824 - val_loss: 0.1320 - val_acc: 0.9607\n",
      "Epoch 21/50\n",
      "48000/48000 [==============================] - 2s 40us/sample - loss: 0.0515 - acc: 0.9824 - val_loss: 0.1420 - val_acc: 0.9626\n",
      "Epoch 22/50\n",
      "48000/48000 [==============================] - 2s 39us/sample - loss: 0.0497 - acc: 0.9829 - val_loss: 0.1387 - val_acc: 0.9616\n",
      "Epoch 23/50\n",
      "48000/48000 [==============================] - 2s 38us/sample - loss: 0.0477 - acc: 0.9841 - val_loss: 0.1362 - val_acc: 0.9617\n",
      "Epoch 24/50\n",
      "48000/48000 [==============================] - 2s 38us/sample - loss: 0.0478 - acc: 0.9839 - val_loss: 0.1484 - val_acc: 0.9608\n",
      "Epoch 25/50\n",
      "48000/48000 [==============================] - 2s 38us/sample - loss: 0.0461 - acc: 0.9845 - val_loss: 0.1388 - val_acc: 0.9626\n",
      "Epoch 26/50\n",
      "48000/48000 [==============================] - 2s 39us/sample - loss: 0.0447 - acc: 0.9852 - val_loss: 0.1443 - val_acc: 0.9614\n",
      "Epoch 27/50\n",
      "48000/48000 [==============================] - 3s 56us/sample - loss: 0.0436 - acc: 0.9855 - val_loss: 0.1490 - val_acc: 0.9603\n",
      "Epoch 28/50\n",
      "48000/48000 [==============================] - 2s 45us/sample - loss: 0.0443 - acc: 0.9851 - val_loss: 0.1446 - val_acc: 0.9617\n",
      "Epoch 29/50\n",
      "48000/48000 [==============================] - 2s 42us/sample - loss: 0.0410 - acc: 0.9865 - val_loss: 0.1486 - val_acc: 0.9613\n",
      "Epoch 30/50\n",
      "48000/48000 [==============================] - 2s 37us/sample - loss: 0.0393 - acc: 0.9865 - val_loss: 0.1497 - val_acc: 0.9617\n",
      "Epoch 31/50\n",
      "48000/48000 [==============================] - 2s 35us/sample - loss: 0.0371 - acc: 0.9877 - val_loss: 0.1526 - val_acc: 0.9613\n",
      "Epoch 32/50\n",
      "48000/48000 [==============================] - 2s 40us/sample - loss: 0.0364 - acc: 0.9880 - val_loss: 0.1574 - val_acc: 0.9613\n",
      "Epoch 33/50\n",
      "48000/48000 [==============================] - 2s 36us/sample - loss: 0.0362 - acc: 0.9879 - val_loss: 0.1543 - val_acc: 0.9609\n",
      "Epoch 34/50\n",
      "48000/48000 [==============================] - 2s 35us/sample - loss: 0.0357 - acc: 0.9882 - val_loss: 0.1619 - val_acc: 0.9616\n",
      "Epoch 35/50\n",
      "48000/48000 [==============================] - 2s 35us/sample - loss: 0.0352 - acc: 0.9881 - val_loss: 0.1619 - val_acc: 0.9616\n",
      "Epoch 36/50\n",
      "48000/48000 [==============================] - 2s 36us/sample - loss: 0.0372 - acc: 0.9874 - val_loss: 0.1609 - val_acc: 0.9614\n",
      "Epoch 37/50\n",
      "48000/48000 [==============================] - 2s 46us/sample - loss: 0.0330 - acc: 0.9888 - val_loss: 0.1665 - val_acc: 0.9604\n",
      "Epoch 38/50\n",
      "48000/48000 [==============================] - 2s 39us/sample - loss: 0.0319 - acc: 0.9894 - val_loss: 0.1523 - val_acc: 0.9632\n",
      "Epoch 39/50\n",
      "48000/48000 [==============================] - 1s 30us/sample - loss: 0.0336 - acc: 0.9881 - val_loss: 0.1675 - val_acc: 0.9614\n",
      "Epoch 40/50\n",
      "48000/48000 [==============================] - 1s 30us/sample - loss: 0.0317 - acc: 0.9890 - val_loss: 0.1769 - val_acc: 0.9598\n",
      "Epoch 41/50\n",
      "48000/48000 [==============================] - 2s 39us/sample - loss: 0.0313 - acc: 0.9895 - val_loss: 0.1578 - val_acc: 0.9631\n",
      "Epoch 42/50\n",
      "48000/48000 [==============================] - 3s 53us/sample - loss: 0.0306 - acc: 0.9896 - val_loss: 0.1580 - val_acc: 0.9622\n",
      "Epoch 43/50\n",
      "48000/48000 [==============================] - 2s 49us/sample - loss: 0.0298 - acc: 0.9897 - val_loss: 0.1676 - val_acc: 0.9610\n",
      "Epoch 44/50\n",
      "48000/48000 [==============================] - 2s 42us/sample - loss: 0.0292 - acc: 0.9900 - val_loss: 0.1665 - val_acc: 0.9624\n",
      "Epoch 45/50\n",
      "48000/48000 [==============================] - 2s 40us/sample - loss: 0.0283 - acc: 0.9906 - val_loss: 0.1693 - val_acc: 0.9613\n",
      "Epoch 46/50\n",
      "48000/48000 [==============================] - 2s 34us/sample - loss: 0.0280 - acc: 0.9900 - val_loss: 0.1754 - val_acc: 0.9601\n",
      "Epoch 47/50\n",
      "48000/48000 [==============================] - 2s 36us/sample - loss: 0.0284 - acc: 0.9907 - val_loss: 0.1676 - val_acc: 0.9599\n",
      "Epoch 48/50\n",
      "48000/48000 [==============================] - 2s 34us/sample - loss: 0.0305 - acc: 0.9893 - val_loss: 0.1820 - val_acc: 0.9578\n",
      "Epoch 49/50\n",
      "48000/48000 [==============================] - 2s 34us/sample - loss: 0.0281 - acc: 0.9901 - val_loss: 0.1734 - val_acc: 0.9592\n",
      "Epoch 50/50\n",
      "48000/48000 [==============================] - 2s 33us/sample - loss: 0.0266 - acc: 0.9910 - val_loss: 0.1788 - val_acc: 0.9621\n"
     ]
    }
   ],
   "source": [
    "# Use a batch size of at least 500. Run 100 epochs.\n",
    "h= m.fit(x_train, to_categorical(y_train), epochs=50, validation_split=0.2, batch_size=100)"
   ]
  },
  {
   "cell_type": "code",
   "execution_count": 9,
   "metadata": {},
   "outputs": [
    {
     "name": "stdout",
     "output_type": "stream",
     "text": [
      "0.06809701461365819\n",
      "0.15218365473839607\n"
     ]
    }
   ],
   "source": [
    "# What accuracy do you reach?\n",
    "print(sum(h.history['loss'])/len(h.history['loss']))\n",
    "print(sum(h.history['val_loss'])/len(h.history['val_loss']))"
   ]
  },
  {
   "cell_type": "code",
   "execution_count": 10,
   "metadata": {},
   "outputs": [
    {
     "data": {
      "text/plain": [
       "<matplotlib.legend.Legend at 0x7fe497a94da0>"
      ]
     },
     "execution_count": 10,
     "metadata": {},
     "output_type": "execute_result"
    },
    {
     "data": {
      "image/png": "[encoded data removed]",
      "text/plain": [
       "<Figure size 432x288 with 1 Axes>"
      ]
     },
     "metadata": {
      "needs_background": "light"
     },
     "output_type": "display_data"
    }
   ],
   "source": [
    "# Is the network overfitting?\n",
    "plt.plot(h.history['loss'])\n",
    "plt.plot(h.history['val_loss'])\n",
    "plt.legend(['loss', 'val_loss'])"
   ]
  },
  {
   "cell_type": "code",
   "execution_count": 11,
   "metadata": {},
   "outputs": [],
   "source": [
    "# Step 3\n",
    "# Add Early Stopping. After how many epochs does it stop?\n",
    "# stopping = EarlyStopping(min_delta=0.02, patience=10)\n",
    "# h= m.fit(x_norm, to_categorical(y_train), epochs=100, validation_split=0.2, batch_size=500,callbacks=[stopping])"
   ]
  },
  {
   "cell_type": "code",
   "execution_count": 12,
   "metadata": {},
   "outputs": [],
   "source": [
    "# Step 4\n",
    "# Add Batch Normalization to every layer.\n",
    "# Compare the learning curves: is it converging faster than before?\n",
    "# Is it still overfitting?"
   ]
  },
  {
   "cell_type": "code",
   "execution_count": 13,
   "metadata": {},
   "outputs": [
    {
     "name": "stdout",
     "output_type": "stream",
     "text": [
      "60000/60000 [==============================] - 1s 13us/sample - loss: 0.0462 - acc: 0.9891\n",
      "[0.04624756992222198, 0.98906666]\n"
     ]
    }
   ],
   "source": [
    "score = m.evaluate(x_train, to_categorical(y_train), batch_size=100)\n",
    "print(score)"
   ]
  },
  {
   "cell_type": "code",
   "execution_count": 14,
   "metadata": {
    "scrolled": true
   },
   "outputs": [
    {
     "name": "stdout",
     "output_type": "stream",
     "text": [
      "[[7.82735629e-16 7.81393630e-11 3.37243927e-10 1.52131499e-04\n",
      "  4.00396764e-11 9.99847889e-01 3.47490751e-11 6.36403064e-09\n",
      "  5.40694713e-13 8.91161589e-11]\n",
      " [9.99933004e-01 4.45055859e-09 6.69823494e-05 1.71130321e-09\n",
      "  7.49599582e-09 2.86477331e-09 6.10541946e-08 8.33569380e-10\n",
      "  2.45753151e-09 1.06334885e-09]\n",
      " [4.76787765e-09 3.40616202e-09 6.19562068e-10 1.29150308e-08\n",
      "  9.99974251e-01 6.41902547e-13 5.53354099e-11 1.03450970e-10\n",
      "  1.44300519e-13 2.57906304e-05]\n",
      " [4.40510561e-08 9.99995470e-01 3.46189466e-07 1.96512090e-07\n",
      "  2.09784375e-07 3.67922759e-08 3.79590332e-08 8.70896486e-07\n",
      "  2.31927424e-06 5.48356297e-07]\n",
      " [5.28722899e-12 1.15080825e-08 8.21160834e-15 3.46281183e-07\n",
      "  6.87785118e-08 6.11125550e-09 2.58586360e-12 7.21296055e-06\n",
      "  2.45858733e-09 9.99992371e-01]\n",
      " [1.22499932e-09 9.05865747e-08 9.99985814e-01 1.29628424e-05\n",
      "  1.02648380e-06 4.33219718e-08 9.41049213e-13 6.56518662e-09\n",
      "  1.20386616e-08 9.55830437e-09]\n",
      " [8.42705354e-14 9.99996066e-01 5.07433828e-09 3.11475503e-07\n",
      "  2.51904921e-11 1.35356601e-10 6.96727086e-14 1.67830888e-06\n",
      "  1.93545770e-06 7.50079832e-10]\n",
      " [2.46853409e-17 4.16817055e-18 3.88734267e-10 1.00000000e+00\n",
      "  2.86749439e-18 9.32488947e-11 7.08585531e-20 2.17420144e-14\n",
      "  9.57780730e-12 3.38719699e-12]\n",
      " [3.34829074e-11 9.99936581e-01 6.24572067e-07 2.56631068e-07\n",
      "  3.48661961e-05 4.86610863e-10 5.57167312e-10 2.54706829e-05\n",
      "  1.70944517e-07 1.96591736e-06]\n",
      " [2.09238044e-11 5.62242697e-10 7.23184915e-11 1.84943415e-11\n",
      "  1.00000000e+00 3.60611506e-11 1.99051953e-09 4.31027020e-11\n",
      "  4.28176055e-16 6.39049837e-12]]\n"
     ]
    }
   ],
   "source": [
    "# prediction on new data points\n",
    "print(m.predict(x_train[:10]))"
   ]
  },
  {
   "cell_type": "code",
   "execution_count": 15,
   "metadata": {},
   "outputs": [],
   "source": [
    "pred_bin = m.predict(x_test[:10])"
   ]
  },
  {
   "cell_type": "code",
   "execution_count": 16,
   "metadata": {},
   "outputs": [],
   "source": [
    "pred = [np.argmax(p) for p in pred_bin]"
   ]
  },
  {
   "cell_type": "code",
   "execution_count": 17,
   "metadata": {},
   "outputs": [
    {
     "name": "stdout",
     "output_type": "stream",
     "text": [
      "[7, 2, 1, 0, 4, 1, 4, 9, 5, 9] [7 2 1 0 4 1 4 9 5 9]\n"
     ]
    }
   ],
   "source": [
    "print(pred, y_test[:10])"
   ]
  }
 ],
 "metadata": {
  "kernelspec": {
   "display_name": "Python 3",
   "language": "python",
   "name": "python3"
  },
  "language_info": {
   "codemirror_mode": {
    "name": "ipython",
    "version": 3
   },
   "file_extension": ".py",
   "mimetype": "text/x-python",
   "name": "python",
   "nbconvert_exporter": "python",
   "pygments_lexer": "ipython3",
   "version": "3.6.12"
  }
 },
 "nbformat": 4,
 "nbformat_minor": 4
}
