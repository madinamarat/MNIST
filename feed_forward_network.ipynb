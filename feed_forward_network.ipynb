{
 "cells": [
  {
   "cell_type": "code",
   "execution_count": 1,
   "metadata": {},
   "outputs": [],
   "source": [
    "from sklearn.datasets import make_moons\n",
    "\n",
    "X, y = make_moons(n_samples=50, noise=0.2, random_state=42)"
   ]
  },
  {
   "cell_type": "markdown",
   "metadata": {},
   "source": [
    "## Step 2 - Plot the data"
   ]
  },
  {
   "cell_type": "code",
   "execution_count": 2,
   "metadata": {},
   "outputs": [
    {
     "data": {
      "text/plain": [
       "array([0, 1, 1, 1, 0, 1, 1, 1, 1, 0, 0, 0, 1, 0, 0, 0, 1, 1, 1, 0, 0, 0,\n",
       "       0, 1, 1, 0, 1, 1, 1, 0, 1, 0, 1, 0, 0, 0, 1, 1, 0, 1, 0, 0, 0, 1,\n",
       "       0, 0, 1, 0, 1, 1])"
      ]
     },
     "execution_count": 2,
     "metadata": {},
     "output_type": "execute_result"
    }
   ],
   "source": [
    "y"
   ]
  },
  {
   "cell_type": "code",
   "execution_count": 3,
   "metadata": {},
   "outputs": [
    {
     "data": {
      "text/plain": [
       "(50, 2)"
      ]
     },
     "execution_count": 3,
     "metadata": {},
     "output_type": "execute_result"
    }
   ],
   "source": [
    "X.shape"
   ]
  },
  {
   "cell_type": "code",
   "execution_count": 4,
   "metadata": {},
   "outputs": [],
   "source": [
    "import pandas as pd"
   ]
  },
  {
   "cell_type": "code",
   "execution_count": 5,
   "metadata": {},
   "outputs": [
    {
     "data": {
      "text/html": [
       "<div>\n",
       "<style scoped>\n",
       "    .dataframe tbody tr th:only-of-type {\n",
       "        vertical-align: middle;\n",
       "    }\n",
       "\n",
       "    .dataframe tbody tr th {\n",
       "        vertical-align: top;\n",
       "    }\n",
       "\n",
       "    .dataframe thead th {\n",
       "        text-align: right;\n",
       "    }\n",
       "</style>\n",
       "<table border=\"1\" class=\"dataframe\">\n",
       "  <thead>\n",
       "    <tr style=\"text-align: right;\">\n",
       "      <th></th>\n",
       "      <th>x1</th>\n",
       "      <th>x2</th>\n",
       "    </tr>\n",
       "  </thead>\n",
       "  <tbody>\n",
       "    <tr>\n",
       "      <th>0</th>\n",
       "      <td>-0.158570</td>\n",
       "      <td>0.984806</td>\n",
       "    </tr>\n",
       "    <tr>\n",
       "      <th>1</th>\n",
       "      <td>1.109004</td>\n",
       "      <td>-0.621602</td>\n",
       "    </tr>\n",
       "    <tr>\n",
       "      <th>2</th>\n",
       "      <td>0.396415</td>\n",
       "      <td>0.207409</td>\n",
       "    </tr>\n",
       "    <tr>\n",
       "      <th>3</th>\n",
       "      <td>1.792391</td>\n",
       "      <td>0.075113</td>\n",
       "    </tr>\n",
       "    <tr>\n",
       "      <th>4</th>\n",
       "      <td>-0.847393</td>\n",
       "      <td>0.711543</td>\n",
       "    </tr>\n",
       "    <tr>\n",
       "      <th>5</th>\n",
       "      <td>1.902097</td>\n",
       "      <td>0.674322</td>\n",
       "    </tr>\n",
       "    <tr>\n",
       "      <th>6</th>\n",
       "      <td>0.073155</td>\n",
       "      <td>0.090790</td>\n",
       "    </tr>\n",
       "    <tr>\n",
       "      <th>7</th>\n",
       "      <td>-0.435667</td>\n",
       "      <td>0.291221</td>\n",
       "    </tr>\n",
       "    <tr>\n",
       "      <th>8</th>\n",
       "      <td>0.425777</td>\n",
       "      <td>-0.228514</td>\n",
       "    </tr>\n",
       "    <tr>\n",
       "      <th>9</th>\n",
       "      <td>-0.644181</td>\n",
       "      <td>0.241445</td>\n",
       "    </tr>\n",
       "    <tr>\n",
       "      <th>10</th>\n",
       "      <td>0.112893</td>\n",
       "      <td>1.005100</td>\n",
       "    </tr>\n",
       "    <tr>\n",
       "      <th>11</th>\n",
       "      <td>0.960664</td>\n",
       "      <td>0.631838</td>\n",
       "    </tr>\n",
       "    <tr>\n",
       "      <th>12</th>\n",
       "      <td>1.468149</td>\n",
       "      <td>-0.285803</td>\n",
       "    </tr>\n",
       "    <tr>\n",
       "      <th>13</th>\n",
       "      <td>0.519283</td>\n",
       "      <td>0.949846</td>\n",
       "    </tr>\n",
       "    <tr>\n",
       "      <th>14</th>\n",
       "      <td>0.733274</td>\n",
       "      <td>0.173109</td>\n",
       "    </tr>\n",
       "    <tr>\n",
       "      <th>15</th>\n",
       "      <td>0.331971</td>\n",
       "      <td>0.433750</td>\n",
       "    </tr>\n",
       "    <tr>\n",
       "      <th>16</th>\n",
       "      <td>1.627261</td>\n",
       "      <td>-0.547370</td>\n",
       "    </tr>\n",
       "    <tr>\n",
       "      <th>17</th>\n",
       "      <td>2.019088</td>\n",
       "      <td>0.378049</td>\n",
       "    </tr>\n",
       "    <tr>\n",
       "      <th>18</th>\n",
       "      <td>2.008243</td>\n",
       "      <td>0.360590</td>\n",
       "    </tr>\n",
       "    <tr>\n",
       "      <th>19</th>\n",
       "      <td>-0.561950</td>\n",
       "      <td>0.901482</td>\n",
       "    </tr>\n",
       "    <tr>\n",
       "      <th>20</th>\n",
       "      <td>0.676472</td>\n",
       "      <td>0.699100</td>\n",
       "    </tr>\n",
       "    <tr>\n",
       "      <th>21</th>\n",
       "      <td>-0.309999</td>\n",
       "      <td>1.211329</td>\n",
       "    </tr>\n",
       "    <tr>\n",
       "      <th>22</th>\n",
       "      <td>-0.908423</td>\n",
       "      <td>-0.336857</td>\n",
       "    </tr>\n",
       "    <tr>\n",
       "      <th>23</th>\n",
       "      <td>0.682686</td>\n",
       "      <td>-0.440103</td>\n",
       "    </tr>\n",
       "    <tr>\n",
       "      <th>24</th>\n",
       "      <td>0.386452</td>\n",
       "      <td>-0.059882</td>\n",
       "    </tr>\n",
       "    <tr>\n",
       "      <th>25</th>\n",
       "      <td>0.844060</td>\n",
       "      <td>-0.168779</td>\n",
       "    </tr>\n",
       "    <tr>\n",
       "      <th>26</th>\n",
       "      <td>1.763247</td>\n",
       "      <td>-0.301873</td>\n",
       "    </tr>\n",
       "    <tr>\n",
       "      <th>27</th>\n",
       "      <td>0.064172</td>\n",
       "      <td>0.218497</td>\n",
       "    </tr>\n",
       "    <tr>\n",
       "      <th>28</th>\n",
       "      <td>1.026706</td>\n",
       "      <td>-0.571044</td>\n",
       "    </tr>\n",
       "    <tr>\n",
       "      <th>29</th>\n",
       "      <td>0.636944</td>\n",
       "      <td>0.693550</td>\n",
       "    </tr>\n",
       "    <tr>\n",
       "      <th>30</th>\n",
       "      <td>0.308516</td>\n",
       "      <td>0.457445</td>\n",
       "    </tr>\n",
       "    <tr>\n",
       "      <th>31</th>\n",
       "      <td>0.455110</td>\n",
       "      <td>1.156191</td>\n",
       "    </tr>\n",
       "    <tr>\n",
       "      <th>32</th>\n",
       "      <td>0.928086</td>\n",
       "      <td>-0.312119</td>\n",
       "    </tr>\n",
       "    <tr>\n",
       "      <th>33</th>\n",
       "      <td>0.869380</td>\n",
       "      <td>0.067293</td>\n",
       "    </tr>\n",
       "    <tr>\n",
       "      <th>34</th>\n",
       "      <td>-1.220364</td>\n",
       "      <td>0.336914</td>\n",
       "    </tr>\n",
       "    <tr>\n",
       "      <th>35</th>\n",
       "      <td>1.158454</td>\n",
       "      <td>0.216881</td>\n",
       "    </tr>\n",
       "    <tr>\n",
       "      <th>36</th>\n",
       "      <td>1.552298</td>\n",
       "      <td>-0.279062</td>\n",
       "    </tr>\n",
       "    <tr>\n",
       "      <th>37</th>\n",
       "      <td>0.885998</td>\n",
       "      <td>-0.517079</td>\n",
       "    </tr>\n",
       "    <tr>\n",
       "      <th>38</th>\n",
       "      <td>-0.821461</td>\n",
       "      <td>-0.131739</td>\n",
       "    </tr>\n",
       "    <tr>\n",
       "      <th>39</th>\n",
       "      <td>1.208622</td>\n",
       "      <td>-0.525208</td>\n",
       "    </tr>\n",
       "    <tr>\n",
       "      <th>40</th>\n",
       "      <td>-0.003171</td>\n",
       "      <td>1.554659</td>\n",
       "    </tr>\n",
       "    <tr>\n",
       "      <th>41</th>\n",
       "      <td>-1.185179</td>\n",
       "      <td>0.441796</td>\n",
       "    </tr>\n",
       "    <tr>\n",
       "      <th>42</th>\n",
       "      <td>-0.840319</td>\n",
       "      <td>0.604349</td>\n",
       "    </tr>\n",
       "    <tr>\n",
       "      <th>43</th>\n",
       "      <td>2.060265</td>\n",
       "      <td>0.208297</td>\n",
       "    </tr>\n",
       "    <tr>\n",
       "      <th>44</th>\n",
       "      <td>-0.998573</td>\n",
       "      <td>0.470705</td>\n",
       "    </tr>\n",
       "    <tr>\n",
       "      <th>45</th>\n",
       "      <td>0.439558</td>\n",
       "      <td>0.628855</td>\n",
       "    </tr>\n",
       "    <tr>\n",
       "      <th>46</th>\n",
       "      <td>1.826107</td>\n",
       "      <td>-0.092356</td>\n",
       "    </tr>\n",
       "    <tr>\n",
       "      <th>47</th>\n",
       "      <td>-0.347172</td>\n",
       "      <td>0.949093</td>\n",
       "    </tr>\n",
       "    <tr>\n",
       "      <th>48</th>\n",
       "      <td>0.323524</td>\n",
       "      <td>-0.167979</td>\n",
       "    </tr>\n",
       "    <tr>\n",
       "      <th>49</th>\n",
       "      <td>1.198131</td>\n",
       "      <td>-0.096531</td>\n",
       "    </tr>\n",
       "  </tbody>\n",
       "</table>\n",
       "</div>"
      ],
      "text/plain": [
       "          x1        x2\n",
       "0  -0.158570  0.984806\n",
       "1   1.109004 -0.621602\n",
       "2   0.396415  0.207409\n",
       "3   1.792391  0.075113\n",
       "4  -0.847393  0.711543\n",
       "5   1.902097  0.674322\n",
       "6   0.073155  0.090790\n",
       "7  -0.435667  0.291221\n",
       "8   0.425777 -0.228514\n",
       "9  -0.644181  0.241445\n",
       "10  0.112893  1.005100\n",
       "11  0.960664  0.631838\n",
       "12  1.468149 -0.285803\n",
       "13  0.519283  0.949846\n",
       "14  0.733274  0.173109\n",
       "15  0.331971  0.433750\n",
       "16  1.627261 -0.547370\n",
       "17  2.019088  0.378049\n",
       "18  2.008243  0.360590\n",
       "19 -0.561950  0.901482\n",
       "20  0.676472  0.699100\n",
       "21 -0.309999  1.211329\n",
       "22 -0.908423 -0.336857\n",
       "23  0.682686 -0.440103\n",
       "24  0.386452 -0.059882\n",
       "25  0.844060 -0.168779\n",
       "26  1.763247 -0.301873\n",
       "27  0.064172  0.218497\n",
       "28  1.026706 -0.571044\n",
       "29  0.636944  0.693550\n",
       "30  0.308516  0.457445\n",
       "31  0.455110  1.156191\n",
       "32  0.928086 -0.312119\n",
       "33  0.869380  0.067293\n",
       "34 -1.220364  0.336914\n",
       "35  1.158454  0.216881\n",
       "36  1.552298 -0.279062\n",
       "37  0.885998 -0.517079\n",
       "38 -0.821461 -0.131739\n",
       "39  1.208622 -0.525208\n",
       "40 -0.003171  1.554659\n",
       "41 -1.185179  0.441796\n",
       "42 -0.840319  0.604349\n",
       "43  2.060265  0.208297\n",
       "44 -0.998573  0.470705\n",
       "45  0.439558  0.628855\n",
       "46  1.826107 -0.092356\n",
       "47 -0.347172  0.949093\n",
       "48  0.323524 -0.167979\n",
       "49  1.198131 -0.096531"
      ]
     },
     "execution_count": 5,
     "metadata": {},
     "output_type": "execute_result"
    }
   ],
   "source": [
    "pd.DataFrame(X, columns=['x1', 'x2'])"
   ]
  },
  {
   "cell_type": "code",
   "execution_count": 6,
   "metadata": {},
   "outputs": [
    {
     "data": {
      "text/plain": [
       "array([-0.15856989,  1.10900374,  0.39641523,  1.79239122, -0.84739307,\n",
       "        1.90209657,  0.0731551 , -0.43566685,  0.42577731, -0.64418143,\n",
       "        0.11289285,  0.96066405,  1.46814927,  0.5192833 ,  0.73327397,\n",
       "        0.33197143,  1.62726102,  2.01908805,  2.00824323, -0.56195047,\n",
       "        0.67647169, -0.30999892, -0.90842298,  0.68268561,  0.38645217,\n",
       "        0.84405962,  1.76324657,  0.06417199,  1.02670564,  0.63694378,\n",
       "        0.30851562,  0.45511029,  0.92808566,  0.86938046, -1.22036438,\n",
       "        1.15845408,  1.5522982 ,  0.88599761, -0.82146062,  1.20862244,\n",
       "       -0.00317109, -1.18517899, -0.84031891,  2.06026456, -0.99857307,\n",
       "        0.43955803,  1.82610683, -0.34717225,  0.32352368,  1.19813072])"
      ]
     },
     "execution_count": 6,
     "metadata": {},
     "output_type": "execute_result"
    }
   ],
   "source": [
    "X[:, 0]"
   ]
  },
  {
   "cell_type": "code",
   "execution_count": 7,
   "metadata": {},
   "outputs": [],
   "source": [
    "import matplotlib.pyplot as plt\n",
    "\n",
    "plt.rcParams['figure.figsize'] = (12, 6)"
   ]
  },
  {
   "cell_type": "code",
   "execution_count": 8,
   "metadata": {},
   "outputs": [
    {
     "data": {
      "text/plain": [
       "<matplotlib.collections.PathCollection at 0x7f85e17b5e48>"
      ]
     },
     "execution_count": 8,
     "metadata": {},
     "output_type": "execute_result"
    },
    {
     "data": {
      "image/png": "[encoded data removed]",
      "text/plain": [
       "<Figure size 864x432 with 1 Axes>"
      ]
     },
     "metadata": {
      "needs_background": "light"
     },
     "output_type": "display_data"
    }
   ],
   "source": [
    "plt.scatter(X[:, 0], X[:, 1], c=y)"
   ]
  },
  {
   "cell_type": "code",
   "execution_count": 9,
   "metadata": {},
   "outputs": [
    {
     "data": {
      "text/plain": [
       "array([0, 1, 1, 1, 0, 1, 1, 1, 1, 0, 0, 0, 1, 0, 0, 0, 1, 1, 1, 0, 0, 0,\n",
       "       0, 1, 1, 0, 1, 1, 1, 0, 1, 0, 1, 0, 0, 0, 1, 1, 0, 1, 0, 0, 0, 1,\n",
       "       0, 0, 1, 0, 1, 1])"
      ]
     },
     "execution_count": 9,
     "metadata": {},
     "output_type": "execute_result"
    }
   ],
   "source": [
    "y"
   ]
  },
  {
   "cell_type": "markdown",
   "metadata": {},
   "source": [
    "## Step 3 - include the bias"
   ]
  },
  {
   "cell_type": "code",
   "execution_count": 10,
   "metadata": {},
   "outputs": [],
   "source": [
    "import numpy as np"
   ]
  },
  {
   "cell_type": "code",
   "execution_count": 11,
   "metadata": {},
   "outputs": [
    {
     "data": {
      "text/plain": [
       "(50, 1)"
      ]
     },
     "execution_count": 11,
     "metadata": {},
     "output_type": "execute_result"
    }
   ],
   "source": [
    "np.ones((X.shape[0], 1)).shape"
   ]
  },
  {
   "cell_type": "code",
   "execution_count": 12,
   "metadata": {},
   "outputs": [],
   "source": [
    "X = np.hstack([X, np.ones((X.shape[0], 1))])"
   ]
  },
  {
   "cell_type": "code",
   "execution_count": 13,
   "metadata": {},
   "outputs": [
    {
     "data": {
      "text/plain": [
       "array([[-0.15856989,  0.98480618,  1.        ],\n",
       "       [ 1.10900374, -0.62160223,  1.        ],\n",
       "       [ 0.39641523,  0.20740869,  1.        ],\n",
       "       [ 1.79239122,  0.07511293,  1.        ],\n",
       "       [-0.84739307,  0.71154296,  1.        ],\n",
       "       [ 1.90209657,  0.67432213,  1.        ],\n",
       "       [ 0.0731551 ,  0.09079042,  1.        ],\n",
       "       [-0.43566685,  0.29122072,  1.        ],\n",
       "       [ 0.42577731, -0.22851359,  1.        ],\n",
       "       [-0.64418143,  0.24144478,  1.        ],\n",
       "       [ 0.11289285,  1.00510013,  1.        ],\n",
       "       [ 0.96066405,  0.63183812,  1.        ],\n",
       "       [ 1.46814927, -0.28580296,  1.        ],\n",
       "       [ 0.5192833 ,  0.94984582,  1.        ],\n",
       "       [ 0.73327397,  0.17310931,  1.        ],\n",
       "       [ 0.33197143,  0.43375035,  1.        ],\n",
       "       [ 1.62726102, -0.54736954,  1.        ],\n",
       "       [ 2.01908805,  0.37804882,  1.        ],\n",
       "       [ 2.00824323,  0.36058988,  1.        ],\n",
       "       [-0.56195047,  0.90148197,  1.        ],\n",
       "       [ 0.67647169,  0.69909987,  1.        ],\n",
       "       [-0.30999892,  1.2113287 ,  1.        ],\n",
       "       [-0.90842298, -0.33685748,  1.        ],\n",
       "       [ 0.68268561, -0.44010332,  1.        ],\n",
       "       [ 0.38645217, -0.05988231,  1.        ],\n",
       "       [ 0.84405962, -0.16877927,  1.        ],\n",
       "       [ 1.76324657, -0.30187296,  1.        ],\n",
       "       [ 0.06417199,  0.2184967 ,  1.        ],\n",
       "       [ 1.02670564, -0.57104358,  1.        ],\n",
       "       [ 0.63694378,  0.69355004,  1.        ],\n",
       "       [ 0.30851562,  0.4574452 ,  1.        ],\n",
       "       [ 0.45511029,  1.15619148,  1.        ],\n",
       "       [ 0.92808566, -0.31211878,  1.        ],\n",
       "       [ 0.86938046,  0.06729301,  1.        ],\n",
       "       [-1.22036438,  0.33691393,  1.        ],\n",
       "       [ 1.15845408,  0.21688056,  1.        ],\n",
       "       [ 1.5522982 , -0.27906241,  1.        ],\n",
       "       [ 0.88599761, -0.51707875,  1.        ],\n",
       "       [-0.82146062, -0.13173865,  1.        ],\n",
       "       [ 1.20862244, -0.52520818,  1.        ],\n",
       "       [-0.00317109,  1.55465851,  1.        ],\n",
       "       [-1.18517899,  0.44179591,  1.        ],\n",
       "       [-0.84031891,  0.60434928,  1.        ],\n",
       "       [ 2.06026456,  0.20829662,  1.        ],\n",
       "       [-0.99857307,  0.47070544,  1.        ],\n",
       "       [ 0.43955803,  0.62885547,  1.        ],\n",
       "       [ 1.82610683, -0.09235596,  1.        ],\n",
       "       [-0.34717225,  0.94909281,  1.        ],\n",
       "       [ 0.32352368, -0.16797921,  1.        ],\n",
       "       [ 1.19813072, -0.09653062,  1.        ]])"
      ]
     },
     "execution_count": 13,
     "metadata": {},
     "output_type": "execute_result"
    }
   ],
   "source": [
    "X"
   ]
  },
  {
   "cell_type": "markdown",
   "metadata": {},
   "source": [
    "## Step 4 - Create the sigmoid activation function"
   ]
  },
  {
   "cell_type": "code",
   "execution_count": 14,
   "metadata": {},
   "outputs": [],
   "source": [
    "def sigmoid(x):\n",
    "    '''Sigmoid activation function for the neurons'''\n",
    "    return 1/(1+np.exp(-x))"
   ]
  },
  {
   "cell_type": "markdown",
   "metadata": {},
   "source": [
    "Sigmoid:\n",
    "\n",
    "$$\n",
    "\\frac{1}{1+\\e{-x}\n",
    "$$"
   ]
  },
  {
   "cell_type": "code",
   "execution_count": 15,
   "metadata": {},
   "outputs": [],
   "source": [
    "# Test whether the sigmoid function was specified correctly\n",
    "a = np.array([-10.0, -1.0, 0.0, 1.0, 10.0])\n",
    "expected = np.array([0.0, 0.27, 0.5, 0.73, 1.0])\n",
    "assert np.all(sigmoid(a).round(2) == expected)"
   ]
  },
  {
   "cell_type": "code",
   "execution_count": 16,
   "metadata": {},
   "outputs": [
    {
     "data": {
      "text/plain": [
       "array([-10.,  -1.,   0.,   1.,  10.])"
      ]
     },
     "execution_count": 16,
     "metadata": {},
     "output_type": "execute_result"
    }
   ],
   "source": [
    "a"
   ]
  },
  {
   "cell_type": "code",
   "execution_count": 17,
   "metadata": {},
   "outputs": [
    {
     "data": {
      "text/plain": [
       "array([0.  , 0.27, 0.5 , 0.73, 1.  ])"
      ]
     },
     "execution_count": 17,
     "metadata": {},
     "output_type": "execute_result"
    }
   ],
   "source": [
    "sigmoid(a).round(2)"
   ]
  },
  {
   "cell_type": "markdown",
   "metadata": {},
   "source": [
    "## Step 5 - Initialize (random) weights"
   ]
  },
  {
   "cell_type": "code",
   "execution_count": 18,
   "metadata": {},
   "outputs": [],
   "source": [
    "# 9 weights in total\n",
    "# 6 in the hidden layer\n",
    "# 3 in the output layer"
   ]
  },
  {
   "cell_type": "code",
   "execution_count": 19,
   "metadata": {},
   "outputs": [
    {
     "data": {
      "text/plain": [
       "(50, 3)"
      ]
     },
     "execution_count": 19,
     "metadata": {},
     "output_type": "execute_result"
    }
   ],
   "source": [
    "X.shape"
   ]
  },
  {
   "cell_type": "code",
   "execution_count": 20,
   "metadata": {},
   "outputs": [
    {
     "data": {
      "text/plain": [
       "array([[0.06828458, 0.54326937],\n",
       "       [0.74098608, 0.17826934],\n",
       "       [0.96257315, 0.69810312]])"
      ]
     },
     "execution_count": 20,
     "metadata": {},
     "output_type": "execute_result"
    }
   ],
   "source": [
    "np.random.rand(3,2)\n",
    "# [weight_input1_neuron1, weight_input1_neuron2]\n",
    "# [weight_input2_neuron1, weight_input2_neuron2]\n",
    "# [weight_bias_neuron1, weight_bias_neuron2]"
   ]
  },
  {
   "cell_type": "code",
   "execution_count": 21,
   "metadata": {},
   "outputs": [],
   "source": [
    "hidden_weights = np.random.rand(3,2)"
   ]
  },
  {
   "cell_type": "code",
   "execution_count": 22,
   "metadata": {},
   "outputs": [
    {
     "data": {
      "text/plain": [
       "array([[0.89143747],\n",
       "       [0.01531287],\n",
       "       [0.30636573]])"
      ]
     },
     "execution_count": 22,
     "metadata": {},
     "output_type": "execute_result"
    }
   ],
   "source": [
    "output_weights = np.random.rand(3,1)\n",
    "output_weights"
   ]
  },
  {
   "cell_type": "code",
   "execution_count": 23,
   "metadata": {},
   "outputs": [],
   "source": [
    "weights = [hidden_weights, output_weights]"
   ]
  },
  {
   "cell_type": "code",
   "execution_count": 24,
   "metadata": {},
   "outputs": [
    {
     "data": {
      "text/plain": [
       "(3, 2)"
      ]
     },
     "execution_count": 24,
     "metadata": {},
     "output_type": "execute_result"
    }
   ],
   "source": [
    "weights[0].shape"
   ]
  },
  {
   "cell_type": "markdown",
   "metadata": {},
   "source": [
    "## Step 6 - Connect all the parts and implement the feed-forward-network"
   ]
  },
  {
   "cell_type": "code",
   "execution_count": 25,
   "metadata": {},
   "outputs": [
    {
     "data": {
      "text/plain": [
       "array([[1.36678107, 1.64603655],\n",
       "       [0.96407753, 0.55927203],\n",
       "       [1.14865093, 1.10112696],\n",
       "       [1.62930061, 1.43124982],\n",
       "       [0.93847326, 1.16732273],\n",
       "       [2.01125214, 2.02588252],\n",
       "       [0.95421081, 0.88731201],\n",
       "       [0.86495423, 0.9089782 ],\n",
       "       [0.91421331, 0.70400309],\n",
       "       [0.75390049, 0.79479886],\n",
       "       [1.48623135, 1.75316398],\n",
       "       [1.61274822, 1.68038777],\n",
       "       [1.29654136, 0.98921544],\n",
       "       [1.61670418, 1.83365061],\n",
       "       [1.26329387, 1.17857187],\n",
       "       [1.25080484, 1.29133949],\n",
       "       [1.21216025, 0.79689898],\n",
       "       [1.89051971, 1.78750436],\n",
       "       [1.87634828, 1.76769388],\n",
       "       [1.15926525, 1.43725061],\n",
       "       [1.53766716, 1.65080361],\n",
       "       [1.4344329 , 1.80815714],\n",
       "       [0.32227575, 0.16946254],\n",
       "       [0.89695385, 0.59008218],\n",
       "       [0.99377702, 0.84853954],\n",
       "       [1.11433862, 0.8956239 ],\n",
       "       [1.40486306, 1.07009828],\n",
       "       [1.02273916, 1.00352816],\n",
       "       [0.95988298, 0.57969934],\n",
       "       [1.5188089 , 1.63278405],\n",
       "       [1.25485165, 1.30582338],\n",
       "       [1.70767624, 2.00529723],\n",
       "       [1.06683722, 0.78920453],\n",
       "       [1.25769626, 1.12407759],\n",
       "       [0.57858632, 0.69666393],\n",
       "       [1.45715061, 1.35754207],\n",
       "       [1.33382289, 1.02284273],\n",
       "       [0.93437507, 0.5843274 ],\n",
       "       [0.47267935, 0.38906709],\n",
       "       [1.05813087, 0.68156129],\n",
       "       [1.75033556, 2.22812814],\n",
       "       [0.65179922, 0.80593766],\n",
       "       [0.88076676, 1.06962218],\n",
       "       [1.81105964, 1.64252371],\n",
       "       [0.7423563 , 0.89353323],\n",
       "       [1.40375945, 1.50830305],\n",
       "       [1.54816162, 1.28597526],\n",
       "       [1.27158837, 1.55144518],\n",
       "       [0.90771233, 0.72725321],\n",
       "       [1.29598512, 1.07805749]])"
      ]
     },
     "execution_count": 25,
     "metadata": {},
     "output_type": "execute_result"
    }
   ],
   "source": [
    "np.dot(X, weights[0])"
   ]
  },
  {
   "cell_type": "code",
   "execution_count": 26,
   "metadata": {},
   "outputs": [
    {
     "data": {
      "text/plain": [
       "array([1.36678107, 1.64603655])"
      ]
     },
     "execution_count": 26,
     "metadata": {},
     "output_type": "execute_result"
    }
   ],
   "source": [
    "np.dot(X, weights[0])[0]\n",
    "# value passed in to the first neuron of the hidden layer, value passed in to the second neuron of the hidden layer"
   ]
  },
  {
   "cell_type": "code",
   "execution_count": 27,
   "metadata": {},
   "outputs": [],
   "source": [
    "def feed_forward(X, weights):\n",
    "\n",
    "    \"\"\"\n",
    "    1. Calculate the dot product of X\n",
    "       and the weights of the first layer.\n",
    "    \"\"\"\n",
    "    step_1 = np.dot(X, weights[0])\n",
    "\n",
    "    \"\"\"\n",
    "    2. Apply the sigmoid function on the result.\n",
    "    \"\"\"\n",
    "    output1 = sigmoid(step_1)\n",
    "    \n",
    "    \"\"\"\n",
    "    3. Append an extra column of ones to the result (i.e. the bias).\n",
    "    \"\"\"\n",
    "    step_3 = np.hstack([output1, np.ones((output1.shape[0], 1))])\n",
    "    \n",
    "    \"\"\"\n",
    "    4. Calculate the dot product of the previous step\n",
    "       with the weights of the second (i.e. outer) layer.\n",
    "    \"\"\"\n",
    "    step_4 = np.dot(step_3, weights[1])\n",
    "    \n",
    "    \n",
    "    \"\"\"\n",
    "    5. Apply the sigmoid function on the result.\n",
    "\n",
    "    \"\"\"\n",
    "    output2 = sigmoid(step_4)\n",
    "\n",
    "    \"\"\"\n",
    "    6. Return all intermediate results (i.e. anything that is outputted\n",
    "       by an activation function).\n",
    "    \"\"\"\n",
    "\n",
    "    return output1, output2"
   ]
  },
  {
   "cell_type": "code",
   "execution_count": null,
   "metadata": {},
   "outputs": [],
   "source": []
  },
  {
   "cell_type": "code",
   "execution_count": 28,
   "metadata": {},
   "outputs": [],
   "source": [
    "out1, out2 = feed_forward(X, weights)"
   ]
  },
  {
   "cell_type": "code",
   "execution_count": 29,
   "metadata": {},
   "outputs": [],
   "source": [
    "# Test whether the function was specified correctly\n",
    "out1, out2 = feed_forward(X, weights)\n",
    "assert out1.shape == (50, 2)\n",
    "assert out2.shape == (50, 1)\n",
    "\n",
    "Xref = np.array([[1.0, 2.0, 1.0]])\n",
    "whidden = np.array([[1.0, 2.0, 0.0],\n",
    "                 [-1.0, -2.0, 0.0]\n",
    "                    ]).T\n",
    "wout = np.array([1.0, -1.0, 0.5]).T\n",
    "\n",
    "out1, out2 = feed_forward(Xref, [whidden, wout])\n",
    "assert np.all(out1.round(2) == np.array([[0.99, 0.01]]))\n",
    "assert np.all(out2.round(2) == np.array([[0.82]]))"
   ]
  },
  {
   "cell_type": "code",
   "execution_count": 30,
   "metadata": {},
   "outputs": [
    {
     "data": {
      "text/plain": [
       "array([[0.99330715, 0.00669285]])"
      ]
     },
     "execution_count": 30,
     "metadata": {},
     "output_type": "execute_result"
    }
   ],
   "source": [
    "out1"
   ]
  },
  {
   "cell_type": "code",
   "execution_count": 31,
   "metadata": {},
   "outputs": [
    {
     "data": {
      "text/plain": [
       "array([0.81556955])"
      ]
     },
     "execution_count": 31,
     "metadata": {},
     "output_type": "execute_result"
    }
   ],
   "source": [
    "out2"
   ]
  },
  {
   "cell_type": "code",
   "execution_count": 32,
   "metadata": {},
   "outputs": [],
   "source": [
    "# Pass in X to the function and observer the result"
   ]
  },
  {
   "cell_type": "code",
   "execution_count": 33,
   "metadata": {},
   "outputs": [],
   "source": [
    "output1, output2 = feed_forward(X, weights)"
   ]
  },
  {
   "cell_type": "code",
   "execution_count": 34,
   "metadata": {},
   "outputs": [
    {
     "data": {
      "text/plain": [
       "(50, 2)"
      ]
     },
     "execution_count": 34,
     "metadata": {},
     "output_type": "execute_result"
    }
   ],
   "source": [
    "output1.shape"
   ]
  },
  {
   "cell_type": "code",
   "execution_count": 35,
   "metadata": {},
   "outputs": [
    {
     "data": {
      "text/plain": [
       "array([[0.73682939],\n",
       "       [0.72341283],\n",
       "       [0.73001415],\n",
       "       [0.74346035],\n",
       "       [0.72288181],\n",
       "       [0.75140479],\n",
       "       [0.72328108],\n",
       "       [0.72002395],\n",
       "       [0.72171291],\n",
       "       [0.71567671],\n",
       "       [0.74008215],\n",
       "       [0.74317712],\n",
       "       [0.73449141],\n",
       "       [0.74332648],\n",
       "       [0.73361337],\n",
       "       [0.733297  ],\n",
       "       [0.73183153],\n",
       "       [0.7491299 ],\n",
       "       [0.74885073],\n",
       "       [0.73052748],\n",
       "       [0.74134635],\n",
       "       [0.73874166],\n",
       "       [0.69669208],\n",
       "       [0.72099981],\n",
       "       [0.72465872],\n",
       "       [0.72877868],\n",
       "       [0.73760387],\n",
       "       [0.72576252],\n",
       "       [0.72327759],\n",
       "       [0.74086669],\n",
       "       [0.73342623],\n",
       "       [0.7454507 ],\n",
       "       [0.72713218],\n",
       "       [0.73341574],\n",
       "       [0.7084293 ],\n",
       "       [0.73915606],\n",
       "       [0.73559094],\n",
       "       [0.72236351],\n",
       "       [0.703628  ],\n",
       "       [0.72676649],\n",
       "       [0.74643527],\n",
       "       [0.71156473],\n",
       "       [0.72071197],\n",
       "       [0.74751028],\n",
       "       [0.71528464],\n",
       "       [0.73779358],\n",
       "       [0.74144355],\n",
       "       [0.7340417 ],\n",
       "       [0.72149054],\n",
       "       [0.73452645]])"
      ]
     },
     "execution_count": 35,
     "metadata": {},
     "output_type": "execute_result"
    }
   ],
   "source": [
    "output2 # These are the 50 predictions the model comes up with"
   ]
  },
  {
   "cell_type": "code",
   "execution_count": null,
   "metadata": {},
   "outputs": [],
   "source": []
  }
 ],
 "metadata": {
  "kernelspec": {
   "display_name": "Python 3",
   "language": "python",
   "name": "python3"
  },
  "language_info": {
   "codemirror_mode": {
    "name": "ipython",
    "version": 3
   },
   "file_extension": ".py",
   "mimetype": "text/x-python",
   "name": "python",
   "nbconvert_exporter": "python",
   "pygments_lexer": "ipython3",
   "version": "3.6.12"
  }
 },
 "nbformat": 4,
 "nbformat_minor": 4
}
